{
 "cells": [
  {
   "cell_type": "markdown",
   "metadata": {},
   "source": [
    "## Data Acquisition "
   ]
  },
  {
   "cell_type": "markdown",
   "metadata": {},
   "source": [
    "##### Import relevant packages"
   ]
  },
  {
   "cell_type": "code",
   "execution_count": 1,
   "metadata": {},
   "outputs": [],
   "source": [
    "import numpy as np \n",
    "import pandas as pd\n",
    "import matplotlib.pyplot as plt\n",
    "import seaborn as sns\n",
    "%matplotlib inline\n",
    "from matplotlib import style"
   ]
  },
  {
   "cell_type": "code",
   "execution_count": 2,
   "metadata": {},
   "outputs": [],
   "source": [
    "##plt.style('fivethirtyeight')"
   ]
  },
  {
   "cell_type": "code",
   "execution_count": 3,
   "metadata": {},
   "outputs": [
    {
     "data": {
      "text/html": [
       "<div>\n",
       "<style scoped>\n",
       "    .dataframe tbody tr th:only-of-type {\n",
       "        vertical-align: middle;\n",
       "    }\n",
       "\n",
       "    .dataframe tbody tr th {\n",
       "        vertical-align: top;\n",
       "    }\n",
       "\n",
       "    .dataframe thead th {\n",
       "        text-align: right;\n",
       "    }\n",
       "</style>\n",
       "<table border=\"1\" class=\"dataframe\">\n",
       "  <thead>\n",
       "    <tr style=\"text-align: right;\">\n",
       "      <th></th>\n",
       "      <th>iso2c</th>\n",
       "      <th>iso3c</th>\n",
       "      <th>country</th>\n",
       "      <th>year</th>\n",
       "      <th>gdp_percap</th>\n",
       "      <th>life_expect</th>\n",
       "      <th>population</th>\n",
       "      <th>birth_rate</th>\n",
       "      <th>neonat_mortal_rate</th>\n",
       "      <th>region</th>\n",
       "      <th>income</th>\n",
       "    </tr>\n",
       "  </thead>\n",
       "  <tbody>\n",
       "    <tr>\n",
       "      <th>0</th>\n",
       "      <td>AD</td>\n",
       "      <td>AND</td>\n",
       "      <td>Andorra</td>\n",
       "      <td>1996</td>\n",
       "      <td>NaN</td>\n",
       "      <td>NaN</td>\n",
       "      <td>64291.0</td>\n",
       "      <td>10.9</td>\n",
       "      <td>2.8</td>\n",
       "      <td>Europe &amp; Central Asia</td>\n",
       "      <td>High income</td>\n",
       "    </tr>\n",
       "    <tr>\n",
       "      <th>1</th>\n",
       "      <td>AD</td>\n",
       "      <td>AND</td>\n",
       "      <td>Andorra</td>\n",
       "      <td>1994</td>\n",
       "      <td>NaN</td>\n",
       "      <td>NaN</td>\n",
       "      <td>62707.0</td>\n",
       "      <td>10.9</td>\n",
       "      <td>3.2</td>\n",
       "      <td>Europe &amp; Central Asia</td>\n",
       "      <td>High income</td>\n",
       "    </tr>\n",
       "    <tr>\n",
       "      <th>2</th>\n",
       "      <td>AD</td>\n",
       "      <td>AND</td>\n",
       "      <td>Andorra</td>\n",
       "      <td>2003</td>\n",
       "      <td>NaN</td>\n",
       "      <td>NaN</td>\n",
       "      <td>74783.0</td>\n",
       "      <td>10.3</td>\n",
       "      <td>2.0</td>\n",
       "      <td>Europe &amp; Central Asia</td>\n",
       "      <td>High income</td>\n",
       "    </tr>\n",
       "    <tr>\n",
       "      <th>3</th>\n",
       "      <td>AD</td>\n",
       "      <td>AND</td>\n",
       "      <td>Andorra</td>\n",
       "      <td>1990</td>\n",
       "      <td>NaN</td>\n",
       "      <td>NaN</td>\n",
       "      <td>54511.0</td>\n",
       "      <td>11.9</td>\n",
       "      <td>4.3</td>\n",
       "      <td>Europe &amp; Central Asia</td>\n",
       "      <td>High income</td>\n",
       "    </tr>\n",
       "    <tr>\n",
       "      <th>4</th>\n",
       "      <td>AD</td>\n",
       "      <td>AND</td>\n",
       "      <td>Andorra</td>\n",
       "      <td>2009</td>\n",
       "      <td>NaN</td>\n",
       "      <td>NaN</td>\n",
       "      <td>85474.0</td>\n",
       "      <td>9.9</td>\n",
       "      <td>1.7</td>\n",
       "      <td>Europe &amp; Central Asia</td>\n",
       "      <td>High income</td>\n",
       "    </tr>\n",
       "  </tbody>\n",
       "</table>\n",
       "</div>"
      ],
      "text/plain": [
       "  iso2c iso3c  country  year  gdp_percap  life_expect  population  birth_rate  \\\n",
       "0    AD   AND  Andorra  1996         NaN          NaN     64291.0        10.9   \n",
       "1    AD   AND  Andorra  1994         NaN          NaN     62707.0        10.9   \n",
       "2    AD   AND  Andorra  2003         NaN          NaN     74783.0        10.3   \n",
       "3    AD   AND  Andorra  1990         NaN          NaN     54511.0        11.9   \n",
       "4    AD   AND  Andorra  2009         NaN          NaN     85474.0         9.9   \n",
       "\n",
       "   neonat_mortal_rate                 region       income  \n",
       "0                 2.8  Europe & Central Asia  High income  \n",
       "1                 3.2  Europe & Central Asia  High income  \n",
       "2                 2.0  Europe & Central Asia  High income  \n",
       "3                 4.3  Europe & Central Asia  High income  \n",
       "4                 1.7  Europe & Central Asia  High income  "
      ]
     },
     "execution_count": 3,
     "metadata": {},
     "output_type": "execute_result"
    }
   ],
   "source": [
    "dataset = pd.read_csv('nations.csv')\n",
    "dataset.head()"
   ]
  },
  {
   "cell_type": "code",
   "execution_count": 4,
   "metadata": {},
   "outputs": [
    {
     "data": {
      "text/plain": [
       "(5275, 11)"
      ]
     },
     "execution_count": 4,
     "metadata": {},
     "output_type": "execute_result"
    }
   ],
   "source": [
    "dataset.shape"
   ]
  },
  {
   "cell_type": "code",
   "execution_count": 5,
   "metadata": {},
   "outputs": [
    {
     "name": "stdout",
     "output_type": "stream",
     "text": [
      "<class 'pandas.core.frame.DataFrame'>\n",
      "RangeIndex: 5275 entries, 0 to 5274\n",
      "Data columns (total 11 columns):\n",
      " #   Column              Non-Null Count  Dtype  \n",
      "---  ------              --------------  -----  \n",
      " 0   iso2c               5250 non-null   object \n",
      " 1   iso3c               5275 non-null   object \n",
      " 2   country             5275 non-null   object \n",
      " 3   year                5275 non-null   int64  \n",
      " 4   gdp_percap          4509 non-null   float64\n",
      " 5   life_expect         4882 non-null   float64\n",
      " 6   population          5261 non-null   float64\n",
      " 7   birth_rate          4980 non-null   float64\n",
      " 8   neonat_mortal_rate  4750 non-null   float64\n",
      " 9   region              5275 non-null   object \n",
      " 10  income              5275 non-null   object \n",
      "dtypes: float64(5), int64(1), object(5)\n",
      "memory usage: 453.4+ KB\n"
     ]
    }
   ],
   "source": [
    "dataset.info()"
   ]
  },
  {
   "cell_type": "code",
   "execution_count": 6,
   "metadata": {},
   "outputs": [
    {
     "data": {
      "text/html": [
       "<div>\n",
       "<style scoped>\n",
       "    .dataframe tbody tr th:only-of-type {\n",
       "        vertical-align: middle;\n",
       "    }\n",
       "\n",
       "    .dataframe tbody tr th {\n",
       "        vertical-align: top;\n",
       "    }\n",
       "\n",
       "    .dataframe thead th {\n",
       "        text-align: right;\n",
       "    }\n",
       "</style>\n",
       "<table border=\"1\" class=\"dataframe\">\n",
       "  <thead>\n",
       "    <tr style=\"text-align: right;\">\n",
       "      <th></th>\n",
       "      <th>year</th>\n",
       "      <th>gdp_percap</th>\n",
       "      <th>life_expect</th>\n",
       "      <th>population</th>\n",
       "      <th>birth_rate</th>\n",
       "      <th>neonat_mortal_rate</th>\n",
       "    </tr>\n",
       "  </thead>\n",
       "  <tbody>\n",
       "    <tr>\n",
       "      <th>count</th>\n",
       "      <td>5275.000000</td>\n",
       "      <td>4509.000000</td>\n",
       "      <td>4882.000000</td>\n",
       "      <td>5.261000e+03</td>\n",
       "      <td>4980.000000</td>\n",
       "      <td>4750.000000</td>\n",
       "    </tr>\n",
       "    <tr>\n",
       "      <th>mean</th>\n",
       "      <td>2002.000000</td>\n",
       "      <td>12788.789488</td>\n",
       "      <td>67.775188</td>\n",
       "      <td>2.958181e+07</td>\n",
       "      <td>24.155666</td>\n",
       "      <td>19.397853</td>\n",
       "    </tr>\n",
       "    <tr>\n",
       "      <th>std</th>\n",
       "      <td>7.211786</td>\n",
       "      <td>16299.433813</td>\n",
       "      <td>9.953131</td>\n",
       "      <td>1.192347e+08</td>\n",
       "      <td>11.861722</td>\n",
       "      <td>15.103225</td>\n",
       "    </tr>\n",
       "    <tr>\n",
       "      <th>min</th>\n",
       "      <td>1990.000000</td>\n",
       "      <td>239.739376</td>\n",
       "      <td>27.078902</td>\n",
       "      <td>9.004000e+03</td>\n",
       "      <td>6.900000</td>\n",
       "      <td>0.700000</td>\n",
       "    </tr>\n",
       "    <tr>\n",
       "      <th>25%</th>\n",
       "      <td>1996.000000</td>\n",
       "      <td>2263.602896</td>\n",
       "      <td>61.243738</td>\n",
       "      <td>7.175020e+05</td>\n",
       "      <td>13.400000</td>\n",
       "      <td>6.700000</td>\n",
       "    </tr>\n",
       "    <tr>\n",
       "      <th>50%</th>\n",
       "      <td>2002.000000</td>\n",
       "      <td>6563.171063</td>\n",
       "      <td>70.457854</td>\n",
       "      <td>5.303294e+06</td>\n",
       "      <td>21.600000</td>\n",
       "      <td>15.000000</td>\n",
       "    </tr>\n",
       "    <tr>\n",
       "      <th>75%</th>\n",
       "      <td>2008.000000</td>\n",
       "      <td>17195.045967</td>\n",
       "      <td>75.170951</td>\n",
       "      <td>1.756858e+07</td>\n",
       "      <td>33.883500</td>\n",
       "      <td>29.475000</td>\n",
       "    </tr>\n",
       "    <tr>\n",
       "      <th>max</th>\n",
       "      <td>2014.000000</td>\n",
       "      <td>141968.100275</td>\n",
       "      <td>83.980488</td>\n",
       "      <td>1.364270e+09</td>\n",
       "      <td>55.122000</td>\n",
       "      <td>73.100000</td>\n",
       "    </tr>\n",
       "  </tbody>\n",
       "</table>\n",
       "</div>"
      ],
      "text/plain": [
       "              year     gdp_percap  life_expect    population   birth_rate  \\\n",
       "count  5275.000000    4509.000000  4882.000000  5.261000e+03  4980.000000   \n",
       "mean   2002.000000   12788.789488    67.775188  2.958181e+07    24.155666   \n",
       "std       7.211786   16299.433813     9.953131  1.192347e+08    11.861722   \n",
       "min    1990.000000     239.739376    27.078902  9.004000e+03     6.900000   \n",
       "25%    1996.000000    2263.602896    61.243738  7.175020e+05    13.400000   \n",
       "50%    2002.000000    6563.171063    70.457854  5.303294e+06    21.600000   \n",
       "75%    2008.000000   17195.045967    75.170951  1.756858e+07    33.883500   \n",
       "max    2014.000000  141968.100275    83.980488  1.364270e+09    55.122000   \n",
       "\n",
       "       neonat_mortal_rate  \n",
       "count         4750.000000  \n",
       "mean            19.397853  \n",
       "std             15.103225  \n",
       "min              0.700000  \n",
       "25%              6.700000  \n",
       "50%             15.000000  \n",
       "75%             29.475000  \n",
       "max             73.100000  "
      ]
     },
     "execution_count": 6,
     "metadata": {},
     "output_type": "execute_result"
    }
   ],
   "source": [
    "dataset.describe()"
   ]
  },
  {
   "cell_type": "markdown",
   "metadata": {},
   "source": [
    "#### Checking for Missing Values"
   ]
  },
  {
   "cell_type": "code",
   "execution_count": 7,
   "metadata": {},
   "outputs": [
    {
     "data": {
      "text/plain": [
       "['iso2c',\n",
       " 'gdp_percap',\n",
       " 'life_expect',\n",
       " 'population',\n",
       " 'birth_rate',\n",
       " 'neonat_mortal_rate']"
      ]
     },
     "execution_count": 7,
     "metadata": {},
     "output_type": "execute_result"
    }
   ],
   "source": [
    "dataset.columns[dataset.isna().any()].to_list()"
   ]
  },
  {
   "cell_type": "code",
   "execution_count": 8,
   "metadata": {},
   "outputs": [
    {
     "data": {
      "text/plain": [
       "iso2c                  25\n",
       "iso3c                   0\n",
       "country                 0\n",
       "year                    0\n",
       "gdp_percap            766\n",
       "life_expect           393\n",
       "population             14\n",
       "birth_rate            295\n",
       "neonat_mortal_rate    525\n",
       "region                  0\n",
       "income                  0\n",
       "dtype: int64"
      ]
     },
     "execution_count": 8,
     "metadata": {},
     "output_type": "execute_result"
    }
   ],
   "source": [
    "dataset.isnull().sum()"
   ]
  },
  {
   "cell_type": "markdown",
   "metadata": {},
   "source": [
    "#### Impute Missing Values"
   ]
  },
  {
   "cell_type": "markdown",
   "metadata": {},
   "source": [
    "Replace the missing values with the `median` value of the columns"
   ]
  },
  {
   "cell_type": "code",
   "execution_count": 9,
   "metadata": {},
   "outputs": [
    {
     "data": {
      "text/html": [
       "<div>\n",
       "<style scoped>\n",
       "    .dataframe tbody tr th:only-of-type {\n",
       "        vertical-align: middle;\n",
       "    }\n",
       "\n",
       "    .dataframe tbody tr th {\n",
       "        vertical-align: top;\n",
       "    }\n",
       "\n",
       "    .dataframe thead th {\n",
       "        text-align: right;\n",
       "    }\n",
       "</style>\n",
       "<table border=\"1\" class=\"dataframe\">\n",
       "  <thead>\n",
       "    <tr style=\"text-align: right;\">\n",
       "      <th></th>\n",
       "      <th>iso2c</th>\n",
       "      <th>iso3c</th>\n",
       "      <th>country</th>\n",
       "      <th>year</th>\n",
       "      <th>gdp_percap</th>\n",
       "      <th>life_expect</th>\n",
       "      <th>population</th>\n",
       "      <th>birth_rate</th>\n",
       "      <th>neonat_mortal_rate</th>\n",
       "      <th>region</th>\n",
       "      <th>income</th>\n",
       "    </tr>\n",
       "  </thead>\n",
       "  <tbody>\n",
       "    <tr>\n",
       "      <th>0</th>\n",
       "      <td>AD</td>\n",
       "      <td>AND</td>\n",
       "      <td>Andorra</td>\n",
       "      <td>1996</td>\n",
       "      <td>6563.171063</td>\n",
       "      <td>NaN</td>\n",
       "      <td>64291.0</td>\n",
       "      <td>10.9</td>\n",
       "      <td>2.8</td>\n",
       "      <td>Europe &amp; Central Asia</td>\n",
       "      <td>High income</td>\n",
       "    </tr>\n",
       "    <tr>\n",
       "      <th>1</th>\n",
       "      <td>AD</td>\n",
       "      <td>AND</td>\n",
       "      <td>Andorra</td>\n",
       "      <td>1994</td>\n",
       "      <td>6563.171063</td>\n",
       "      <td>NaN</td>\n",
       "      <td>62707.0</td>\n",
       "      <td>10.9</td>\n",
       "      <td>3.2</td>\n",
       "      <td>Europe &amp; Central Asia</td>\n",
       "      <td>High income</td>\n",
       "    </tr>\n",
       "    <tr>\n",
       "      <th>2</th>\n",
       "      <td>AD</td>\n",
       "      <td>AND</td>\n",
       "      <td>Andorra</td>\n",
       "      <td>2003</td>\n",
       "      <td>6563.171063</td>\n",
       "      <td>NaN</td>\n",
       "      <td>74783.0</td>\n",
       "      <td>10.3</td>\n",
       "      <td>2.0</td>\n",
       "      <td>Europe &amp; Central Asia</td>\n",
       "      <td>High income</td>\n",
       "    </tr>\n",
       "    <tr>\n",
       "      <th>3</th>\n",
       "      <td>AD</td>\n",
       "      <td>AND</td>\n",
       "      <td>Andorra</td>\n",
       "      <td>1990</td>\n",
       "      <td>6563.171063</td>\n",
       "      <td>NaN</td>\n",
       "      <td>54511.0</td>\n",
       "      <td>11.9</td>\n",
       "      <td>4.3</td>\n",
       "      <td>Europe &amp; Central Asia</td>\n",
       "      <td>High income</td>\n",
       "    </tr>\n",
       "    <tr>\n",
       "      <th>4</th>\n",
       "      <td>AD</td>\n",
       "      <td>AND</td>\n",
       "      <td>Andorra</td>\n",
       "      <td>2009</td>\n",
       "      <td>6563.171063</td>\n",
       "      <td>NaN</td>\n",
       "      <td>85474.0</td>\n",
       "      <td>9.9</td>\n",
       "      <td>1.7</td>\n",
       "      <td>Europe &amp; Central Asia</td>\n",
       "      <td>High income</td>\n",
       "    </tr>\n",
       "  </tbody>\n",
       "</table>\n",
       "</div>"
      ],
      "text/plain": [
       "  iso2c iso3c  country  year   gdp_percap  life_expect  population  \\\n",
       "0    AD   AND  Andorra  1996  6563.171063          NaN     64291.0   \n",
       "1    AD   AND  Andorra  1994  6563.171063          NaN     62707.0   \n",
       "2    AD   AND  Andorra  2003  6563.171063          NaN     74783.0   \n",
       "3    AD   AND  Andorra  1990  6563.171063          NaN     54511.0   \n",
       "4    AD   AND  Andorra  2009  6563.171063          NaN     85474.0   \n",
       "\n",
       "   birth_rate  neonat_mortal_rate                 region       income  \n",
       "0        10.9                 2.8  Europe & Central Asia  High income  \n",
       "1        10.9                 3.2  Europe & Central Asia  High income  \n",
       "2        10.3                 2.0  Europe & Central Asia  High income  \n",
       "3        11.9                 4.3  Europe & Central Asia  High income  \n",
       "4         9.9                 1.7  Europe & Central Asia  High income  "
      ]
     },
     "execution_count": 9,
     "metadata": {},
     "output_type": "execute_result"
    }
   ],
   "source": [
    "dataset['gdp_percap'].fillna(dataset['gdp_percap'].median(), inplace=True)\n",
    "dataset.head()"
   ]
  },
  {
   "cell_type": "markdown",
   "metadata": {},
   "source": [
    "### Pre-processing"
   ]
  },
  {
   "cell_type": "code",
   "execution_count": 10,
   "metadata": {},
   "outputs": [
    {
     "data": {
      "text/html": [
       "<div>\n",
       "<style scoped>\n",
       "    .dataframe tbody tr th:only-of-type {\n",
       "        vertical-align: middle;\n",
       "    }\n",
       "\n",
       "    .dataframe tbody tr th {\n",
       "        vertical-align: top;\n",
       "    }\n",
       "\n",
       "    .dataframe thead th {\n",
       "        text-align: right;\n",
       "    }\n",
       "</style>\n",
       "<table border=\"1\" class=\"dataframe\">\n",
       "  <thead>\n",
       "    <tr style=\"text-align: right;\">\n",
       "      <th></th>\n",
       "      <th>country</th>\n",
       "      <th>year</th>\n",
       "      <th>gdp_percap</th>\n",
       "    </tr>\n",
       "  </thead>\n",
       "  <tbody>\n",
       "    <tr>\n",
       "      <th>0</th>\n",
       "      <td>Afghanistan</td>\n",
       "      <td>1990</td>\n",
       "      <td>6563.171063</td>\n",
       "    </tr>\n",
       "    <tr>\n",
       "      <th>1</th>\n",
       "      <td>Afghanistan</td>\n",
       "      <td>1991</td>\n",
       "      <td>6563.171063</td>\n",
       "    </tr>\n",
       "    <tr>\n",
       "      <th>2</th>\n",
       "      <td>Afghanistan</td>\n",
       "      <td>1992</td>\n",
       "      <td>6563.171063</td>\n",
       "    </tr>\n",
       "    <tr>\n",
       "      <th>3</th>\n",
       "      <td>Afghanistan</td>\n",
       "      <td>1993</td>\n",
       "      <td>6563.171063</td>\n",
       "    </tr>\n",
       "    <tr>\n",
       "      <th>4</th>\n",
       "      <td>Afghanistan</td>\n",
       "      <td>1994</td>\n",
       "      <td>6563.171063</td>\n",
       "    </tr>\n",
       "  </tbody>\n",
       "</table>\n",
       "</div>"
      ],
      "text/plain": [
       "       country  year   gdp_percap\n",
       "0  Afghanistan  1990  6563.171063\n",
       "1  Afghanistan  1991  6563.171063\n",
       "2  Afghanistan  1992  6563.171063\n",
       "3  Afghanistan  1993  6563.171063\n",
       "4  Afghanistan  1994  6563.171063"
      ]
     },
     "execution_count": 10,
     "metadata": {},
     "output_type": "execute_result"
    }
   ],
   "source": [
    "avg_gdp_percap = pd.DataFrame(dataset.groupby(['country','year'])['gdp_percap'].aggregate('mean').reset_index())\n",
    "avg_gdp_percap.head()"
   ]
  },
  {
   "cell_type": "code",
   "execution_count": 11,
   "metadata": {},
   "outputs": [
    {
     "data": {
      "text/html": [
       "<div>\n",
       "<style scoped>\n",
       "    .dataframe tbody tr th:only-of-type {\n",
       "        vertical-align: middle;\n",
       "    }\n",
       "\n",
       "    .dataframe tbody tr th {\n",
       "        vertical-align: top;\n",
       "    }\n",
       "\n",
       "    .dataframe thead th {\n",
       "        text-align: right;\n",
       "    }\n",
       "</style>\n",
       "<table border=\"1\" class=\"dataframe\">\n",
       "  <thead>\n",
       "    <tr style=\"text-align: right;\">\n",
       "      <th></th>\n",
       "      <th>country</th>\n",
       "      <th>year</th>\n",
       "      <th>gdp_percap</th>\n",
       "    </tr>\n",
       "  </thead>\n",
       "  <tbody>\n",
       "    <tr>\n",
       "      <th>2798</th>\n",
       "      <td>Macao SAR, China</td>\n",
       "      <td>2013</td>\n",
       "      <td>141968.100275</td>\n",
       "    </tr>\n",
       "    <tr>\n",
       "      <th>3824</th>\n",
       "      <td>Qatar</td>\n",
       "      <td>2014</td>\n",
       "      <td>141442.215520</td>\n",
       "    </tr>\n",
       "    <tr>\n",
       "      <th>2799</th>\n",
       "      <td>Macao SAR, China</td>\n",
       "      <td>2014</td>\n",
       "      <td>140630.079451</td>\n",
       "    </tr>\n",
       "    <tr>\n",
       "      <th>3823</th>\n",
       "      <td>Qatar</td>\n",
       "      <td>2013</td>\n",
       "      <td>138067.097017</td>\n",
       "    </tr>\n",
       "    <tr>\n",
       "      <th>3822</th>\n",
       "      <td>Qatar</td>\n",
       "      <td>2012</td>\n",
       "      <td>135421.723986</td>\n",
       "    </tr>\n",
       "  </tbody>\n",
       "</table>\n",
       "</div>"
      ],
      "text/plain": [
       "               country  year     gdp_percap\n",
       "2798  Macao SAR, China  2013  141968.100275\n",
       "3824             Qatar  2014  141442.215520\n",
       "2799  Macao SAR, China  2014  140630.079451\n",
       "3823             Qatar  2013  138067.097017\n",
       "3822             Qatar  2012  135421.723986"
      ]
     },
     "execution_count": 11,
     "metadata": {},
     "output_type": "execute_result"
    }
   ],
   "source": [
    "top_five_countries = pd.DataFrame(avg_gdp_percap.sort_values(by='gdp_percap', ascending=False))\n",
    "top_five_countries.head()"
   ]
  },
  {
   "cell_type": "markdown",
   "metadata": {},
   "source": [
    "`Macao SAR, China` has the highest average `gdp_percap`. Check for more info"
   ]
  },
  {
   "cell_type": "code",
   "execution_count": 12,
   "metadata": {},
   "outputs": [
    {
     "data": {
      "text/html": [
       "<div>\n",
       "<style scoped>\n",
       "    .dataframe tbody tr th:only-of-type {\n",
       "        vertical-align: middle;\n",
       "    }\n",
       "\n",
       "    .dataframe tbody tr th {\n",
       "        vertical-align: top;\n",
       "    }\n",
       "\n",
       "    .dataframe thead th {\n",
       "        text-align: right;\n",
       "    }\n",
       "</style>\n",
       "<table border=\"1\" class=\"dataframe\">\n",
       "  <thead>\n",
       "    <tr style=\"text-align: right;\">\n",
       "      <th></th>\n",
       "      <th>iso2c</th>\n",
       "      <th>iso3c</th>\n",
       "      <th>country</th>\n",
       "      <th>year</th>\n",
       "      <th>gdp_percap</th>\n",
       "      <th>life_expect</th>\n",
       "      <th>population</th>\n",
       "      <th>birth_rate</th>\n",
       "      <th>neonat_mortal_rate</th>\n",
       "      <th>region</th>\n",
       "      <th>income</th>\n",
       "    </tr>\n",
       "  </thead>\n",
       "  <tbody>\n",
       "    <tr>\n",
       "      <th>3175</th>\n",
       "      <td>MO</td>\n",
       "      <td>MAC</td>\n",
       "      <td>Macao SAR, China</td>\n",
       "      <td>1997</td>\n",
       "      <td>29984.138229</td>\n",
       "      <td>76.962756</td>\n",
       "      <td>412031.0</td>\n",
       "      <td>11.470</td>\n",
       "      <td>NaN</td>\n",
       "      <td>East Asia &amp; Pacific</td>\n",
       "      <td>High income</td>\n",
       "    </tr>\n",
       "    <tr>\n",
       "      <th>3176</th>\n",
       "      <td>MO</td>\n",
       "      <td>MAC</td>\n",
       "      <td>Macao SAR, China</td>\n",
       "      <td>2005</td>\n",
       "      <td>58922.097492</td>\n",
       "      <td>78.649024</td>\n",
       "      <td>468149.0</td>\n",
       "      <td>7.806</td>\n",
       "      <td>NaN</td>\n",
       "      <td>East Asia &amp; Pacific</td>\n",
       "      <td>High income</td>\n",
       "    </tr>\n",
       "    <tr>\n",
       "      <th>3177</th>\n",
       "      <td>MO</td>\n",
       "      <td>MAC</td>\n",
       "      <td>Macao SAR, China</td>\n",
       "      <td>2003</td>\n",
       "      <td>42126.842348</td>\n",
       "      <td>78.246293</td>\n",
       "      <td>450754.0</td>\n",
       "      <td>7.757</td>\n",
       "      <td>NaN</td>\n",
       "      <td>East Asia &amp; Pacific</td>\n",
       "      <td>High income</td>\n",
       "    </tr>\n",
       "    <tr>\n",
       "      <th>3178</th>\n",
       "      <td>MO</td>\n",
       "      <td>MAC</td>\n",
       "      <td>Macao SAR, China</td>\n",
       "      <td>2013</td>\n",
       "      <td>141968.100275</td>\n",
       "      <td>80.339146</td>\n",
       "      <td>568056.0</td>\n",
       "      <td>11.256</td>\n",
       "      <td>NaN</td>\n",
       "      <td>East Asia &amp; Pacific</td>\n",
       "      <td>High income</td>\n",
       "    </tr>\n",
       "    <tr>\n",
       "      <th>3179</th>\n",
       "      <td>MO</td>\n",
       "      <td>MAC</td>\n",
       "      <td>Macao SAR, China</td>\n",
       "      <td>2008</td>\n",
       "      <td>78666.565905</td>\n",
       "      <td>79.264610</td>\n",
       "      <td>507274.0</td>\n",
       "      <td>8.999</td>\n",
       "      <td>NaN</td>\n",
       "      <td>East Asia &amp; Pacific</td>\n",
       "      <td>High income</td>\n",
       "    </tr>\n",
       "    <tr>\n",
       "      <th>3180</th>\n",
       "      <td>MO</td>\n",
       "      <td>MAC</td>\n",
       "      <td>Macao SAR, China</td>\n",
       "      <td>2010</td>\n",
       "      <td>96619.844399</td>\n",
       "      <td>79.690390</td>\n",
       "      <td>534626.0</td>\n",
       "      <td>10.032</td>\n",
       "      <td>NaN</td>\n",
       "      <td>East Asia &amp; Pacific</td>\n",
       "      <td>High income</td>\n",
       "    </tr>\n",
       "    <tr>\n",
       "      <th>3181</th>\n",
       "      <td>MO</td>\n",
       "      <td>MAC</td>\n",
       "      <td>Macao SAR, China</td>\n",
       "      <td>2012</td>\n",
       "      <td>127938.918712</td>\n",
       "      <td>80.123171</td>\n",
       "      <td>557763.0</td>\n",
       "      <td>10.913</td>\n",
       "      <td>NaN</td>\n",
       "      <td>East Asia &amp; Pacific</td>\n",
       "      <td>High income</td>\n",
       "    </tr>\n",
       "    <tr>\n",
       "      <th>3182</th>\n",
       "      <td>MO</td>\n",
       "      <td>MAC</td>\n",
       "      <td>Macao SAR, China</td>\n",
       "      <td>1996</td>\n",
       "      <td>30064.471198</td>\n",
       "      <td>76.734415</td>\n",
       "      <td>405231.0</td>\n",
       "      <td>12.345</td>\n",
       "      <td>NaN</td>\n",
       "      <td>East Asia &amp; Pacific</td>\n",
       "      <td>High income</td>\n",
       "    </tr>\n",
       "    <tr>\n",
       "      <th>3183</th>\n",
       "      <td>MO</td>\n",
       "      <td>MAC</td>\n",
       "      <td>Macao SAR, China</td>\n",
       "      <td>1994</td>\n",
       "      <td>29075.647323</td>\n",
       "      <td>76.265244</td>\n",
       "      <td>391783.0</td>\n",
       "      <td>14.294</td>\n",
       "      <td>NaN</td>\n",
       "      <td>East Asia &amp; Pacific</td>\n",
       "      <td>High income</td>\n",
       "    </tr>\n",
       "    <tr>\n",
       "      <th>3184</th>\n",
       "      <td>MO</td>\n",
       "      <td>MAC</td>\n",
       "      <td>Macao SAR, China</td>\n",
       "      <td>1999</td>\n",
       "      <td>27749.601396</td>\n",
       "      <td>77.406976</td>\n",
       "      <td>425448.0</td>\n",
       "      <td>9.804</td>\n",
       "      <td>NaN</td>\n",
       "      <td>East Asia &amp; Pacific</td>\n",
       "      <td>High income</td>\n",
       "    </tr>\n",
       "    <tr>\n",
       "      <th>3185</th>\n",
       "      <td>MO</td>\n",
       "      <td>MAC</td>\n",
       "      <td>Macao SAR, China</td>\n",
       "      <td>2000</td>\n",
       "      <td>29550.149020</td>\n",
       "      <td>77.622829</td>\n",
       "      <td>431907.0</td>\n",
       "      <td>9.069</td>\n",
       "      <td>NaN</td>\n",
       "      <td>East Asia &amp; Pacific</td>\n",
       "      <td>High income</td>\n",
       "    </tr>\n",
       "    <tr>\n",
       "      <th>3186</th>\n",
       "      <td>MO</td>\n",
       "      <td>MAC</td>\n",
       "      <td>Macao SAR, China</td>\n",
       "      <td>2001</td>\n",
       "      <td>34407.773259</td>\n",
       "      <td>77.834659</td>\n",
       "      <td>438088.0</td>\n",
       "      <td>8.460</td>\n",
       "      <td>NaN</td>\n",
       "      <td>East Asia &amp; Pacific</td>\n",
       "      <td>High income</td>\n",
       "    </tr>\n",
       "    <tr>\n",
       "      <th>3187</th>\n",
       "      <td>MO</td>\n",
       "      <td>MAC</td>\n",
       "      <td>Macao SAR, China</td>\n",
       "      <td>2014</td>\n",
       "      <td>140630.079451</td>\n",
       "      <td>80.553098</td>\n",
       "      <td>577914.0</td>\n",
       "      <td>11.514</td>\n",
       "      <td>NaN</td>\n",
       "      <td>East Asia &amp; Pacific</td>\n",
       "      <td>High income</td>\n",
       "    </tr>\n",
       "    <tr>\n",
       "      <th>3188</th>\n",
       "      <td>MO</td>\n",
       "      <td>MAC</td>\n",
       "      <td>Macao SAR, China</td>\n",
       "      <td>2006</td>\n",
       "      <td>67157.307919</td>\n",
       "      <td>78.851561</td>\n",
       "      <td>479728.0</td>\n",
       "      <td>8.096</td>\n",
       "      <td>NaN</td>\n",
       "      <td>East Asia &amp; Pacific</td>\n",
       "      <td>High income</td>\n",
       "    </tr>\n",
       "    <tr>\n",
       "      <th>3189</th>\n",
       "      <td>MO</td>\n",
       "      <td>MAC</td>\n",
       "      <td>Macao SAR, China</td>\n",
       "      <td>2007</td>\n",
       "      <td>76777.764017</td>\n",
       "      <td>79.056244</td>\n",
       "      <td>493022.0</td>\n",
       "      <td>8.511</td>\n",
       "      <td>NaN</td>\n",
       "      <td>East Asia &amp; Pacific</td>\n",
       "      <td>High income</td>\n",
       "    </tr>\n",
       "    <tr>\n",
       "      <th>3190</th>\n",
       "      <td>MO</td>\n",
       "      <td>MAC</td>\n",
       "      <td>Macao SAR, China</td>\n",
       "      <td>1991</td>\n",
       "      <td>23190.130338</td>\n",
       "      <td>75.530780</td>\n",
       "      <td>369484.0</td>\n",
       "      <td>17.999</td>\n",
       "      <td>NaN</td>\n",
       "      <td>East Asia &amp; Pacific</td>\n",
       "      <td>High income</td>\n",
       "    </tr>\n",
       "    <tr>\n",
       "      <th>3191</th>\n",
       "      <td>MO</td>\n",
       "      <td>MAC</td>\n",
       "      <td>Macao SAR, China</td>\n",
       "      <td>2004</td>\n",
       "      <td>53929.953004</td>\n",
       "      <td>78.448122</td>\n",
       "      <td>458579.0</td>\n",
       "      <td>7.688</td>\n",
       "      <td>NaN</td>\n",
       "      <td>East Asia &amp; Pacific</td>\n",
       "      <td>High income</td>\n",
       "    </tr>\n",
       "    <tr>\n",
       "      <th>3192</th>\n",
       "      <td>MO</td>\n",
       "      <td>MAC</td>\n",
       "      <td>Macao SAR, China</td>\n",
       "      <td>2009</td>\n",
       "      <td>78134.582879</td>\n",
       "      <td>79.476171</td>\n",
       "      <td>521405.0</td>\n",
       "      <td>9.520</td>\n",
       "      <td>NaN</td>\n",
       "      <td>East Asia &amp; Pacific</td>\n",
       "      <td>High income</td>\n",
       "    </tr>\n",
       "    <tr>\n",
       "      <th>3193</th>\n",
       "      <td>MO</td>\n",
       "      <td>MAC</td>\n",
       "      <td>Macao SAR, China</td>\n",
       "      <td>1993</td>\n",
       "      <td>27773.991797</td>\n",
       "      <td>76.024415</td>\n",
       "      <td>385041.0</td>\n",
       "      <td>15.441</td>\n",
       "      <td>NaN</td>\n",
       "      <td>East Asia &amp; Pacific</td>\n",
       "      <td>High income</td>\n",
       "    </tr>\n",
       "    <tr>\n",
       "      <th>3194</th>\n",
       "      <td>MO</td>\n",
       "      <td>MAC</td>\n",
       "      <td>Macao SAR, China</td>\n",
       "      <td>2011</td>\n",
       "      <td>117340.970751</td>\n",
       "      <td>79.906244</td>\n",
       "      <td>546682.0</td>\n",
       "      <td>10.501</td>\n",
       "      <td>NaN</td>\n",
       "      <td>East Asia &amp; Pacific</td>\n",
       "      <td>High income</td>\n",
       "    </tr>\n",
       "    <tr>\n",
       "      <th>3195</th>\n",
       "      <td>MO</td>\n",
       "      <td>MAC</td>\n",
       "      <td>Macao SAR, China</td>\n",
       "      <td>1995</td>\n",
       "      <td>30147.858785</td>\n",
       "      <td>76.502073</td>\n",
       "      <td>398459.0</td>\n",
       "      <td>13.269</td>\n",
       "      <td>NaN</td>\n",
       "      <td>East Asia &amp; Pacific</td>\n",
       "      <td>High income</td>\n",
       "    </tr>\n",
       "    <tr>\n",
       "      <th>3196</th>\n",
       "      <td>MO</td>\n",
       "      <td>MAC</td>\n",
       "      <td>Macao SAR, China</td>\n",
       "      <td>1998</td>\n",
       "      <td>28447.271131</td>\n",
       "      <td>77.186610</td>\n",
       "      <td>418810.0</td>\n",
       "      <td>10.617</td>\n",
       "      <td>NaN</td>\n",
       "      <td>East Asia &amp; Pacific</td>\n",
       "      <td>High income</td>\n",
       "    </tr>\n",
       "    <tr>\n",
       "      <th>3197</th>\n",
       "      <td>MO</td>\n",
       "      <td>MAC</td>\n",
       "      <td>Macao SAR, China</td>\n",
       "      <td>1992</td>\n",
       "      <td>26281.899061</td>\n",
       "      <td>75.779610</td>\n",
       "      <td>377799.0</td>\n",
       "      <td>16.695</td>\n",
       "      <td>NaN</td>\n",
       "      <td>East Asia &amp; Pacific</td>\n",
       "      <td>High income</td>\n",
       "    </tr>\n",
       "    <tr>\n",
       "      <th>3198</th>\n",
       "      <td>MO</td>\n",
       "      <td>MAC</td>\n",
       "      <td>Macao SAR, China</td>\n",
       "      <td>1990</td>\n",
       "      <td>22228.860282</td>\n",
       "      <td>75.276976</td>\n",
       "      <td>359735.0</td>\n",
       "      <td>19.272</td>\n",
       "      <td>NaN</td>\n",
       "      <td>East Asia &amp; Pacific</td>\n",
       "      <td>High income</td>\n",
       "    </tr>\n",
       "    <tr>\n",
       "      <th>3199</th>\n",
       "      <td>MO</td>\n",
       "      <td>MAC</td>\n",
       "      <td>Macao SAR, China</td>\n",
       "      <td>2002</td>\n",
       "      <td>37539.928235</td>\n",
       "      <td>78.041976</td>\n",
       "      <td>444178.0</td>\n",
       "      <td>8.016</td>\n",
       "      <td>NaN</td>\n",
       "      <td>East Asia &amp; Pacific</td>\n",
       "      <td>High income</td>\n",
       "    </tr>\n",
       "  </tbody>\n",
       "</table>\n",
       "</div>"
      ],
      "text/plain": [
       "     iso2c iso3c           country  year     gdp_percap  life_expect  \\\n",
       "3175    MO   MAC  Macao SAR, China  1997   29984.138229    76.962756   \n",
       "3176    MO   MAC  Macao SAR, China  2005   58922.097492    78.649024   \n",
       "3177    MO   MAC  Macao SAR, China  2003   42126.842348    78.246293   \n",
       "3178    MO   MAC  Macao SAR, China  2013  141968.100275    80.339146   \n",
       "3179    MO   MAC  Macao SAR, China  2008   78666.565905    79.264610   \n",
       "3180    MO   MAC  Macao SAR, China  2010   96619.844399    79.690390   \n",
       "3181    MO   MAC  Macao SAR, China  2012  127938.918712    80.123171   \n",
       "3182    MO   MAC  Macao SAR, China  1996   30064.471198    76.734415   \n",
       "3183    MO   MAC  Macao SAR, China  1994   29075.647323    76.265244   \n",
       "3184    MO   MAC  Macao SAR, China  1999   27749.601396    77.406976   \n",
       "3185    MO   MAC  Macao SAR, China  2000   29550.149020    77.622829   \n",
       "3186    MO   MAC  Macao SAR, China  2001   34407.773259    77.834659   \n",
       "3187    MO   MAC  Macao SAR, China  2014  140630.079451    80.553098   \n",
       "3188    MO   MAC  Macao SAR, China  2006   67157.307919    78.851561   \n",
       "3189    MO   MAC  Macao SAR, China  2007   76777.764017    79.056244   \n",
       "3190    MO   MAC  Macao SAR, China  1991   23190.130338    75.530780   \n",
       "3191    MO   MAC  Macao SAR, China  2004   53929.953004    78.448122   \n",
       "3192    MO   MAC  Macao SAR, China  2009   78134.582879    79.476171   \n",
       "3193    MO   MAC  Macao SAR, China  1993   27773.991797    76.024415   \n",
       "3194    MO   MAC  Macao SAR, China  2011  117340.970751    79.906244   \n",
       "3195    MO   MAC  Macao SAR, China  1995   30147.858785    76.502073   \n",
       "3196    MO   MAC  Macao SAR, China  1998   28447.271131    77.186610   \n",
       "3197    MO   MAC  Macao SAR, China  1992   26281.899061    75.779610   \n",
       "3198    MO   MAC  Macao SAR, China  1990   22228.860282    75.276976   \n",
       "3199    MO   MAC  Macao SAR, China  2002   37539.928235    78.041976   \n",
       "\n",
       "      population  birth_rate  neonat_mortal_rate               region  \\\n",
       "3175    412031.0      11.470                 NaN  East Asia & Pacific   \n",
       "3176    468149.0       7.806                 NaN  East Asia & Pacific   \n",
       "3177    450754.0       7.757                 NaN  East Asia & Pacific   \n",
       "3178    568056.0      11.256                 NaN  East Asia & Pacific   \n",
       "3179    507274.0       8.999                 NaN  East Asia & Pacific   \n",
       "3180    534626.0      10.032                 NaN  East Asia & Pacific   \n",
       "3181    557763.0      10.913                 NaN  East Asia & Pacific   \n",
       "3182    405231.0      12.345                 NaN  East Asia & Pacific   \n",
       "3183    391783.0      14.294                 NaN  East Asia & Pacific   \n",
       "3184    425448.0       9.804                 NaN  East Asia & Pacific   \n",
       "3185    431907.0       9.069                 NaN  East Asia & Pacific   \n",
       "3186    438088.0       8.460                 NaN  East Asia & Pacific   \n",
       "3187    577914.0      11.514                 NaN  East Asia & Pacific   \n",
       "3188    479728.0       8.096                 NaN  East Asia & Pacific   \n",
       "3189    493022.0       8.511                 NaN  East Asia & Pacific   \n",
       "3190    369484.0      17.999                 NaN  East Asia & Pacific   \n",
       "3191    458579.0       7.688                 NaN  East Asia & Pacific   \n",
       "3192    521405.0       9.520                 NaN  East Asia & Pacific   \n",
       "3193    385041.0      15.441                 NaN  East Asia & Pacific   \n",
       "3194    546682.0      10.501                 NaN  East Asia & Pacific   \n",
       "3195    398459.0      13.269                 NaN  East Asia & Pacific   \n",
       "3196    418810.0      10.617                 NaN  East Asia & Pacific   \n",
       "3197    377799.0      16.695                 NaN  East Asia & Pacific   \n",
       "3198    359735.0      19.272                 NaN  East Asia & Pacific   \n",
       "3199    444178.0       8.016                 NaN  East Asia & Pacific   \n",
       "\n",
       "           income  \n",
       "3175  High income  \n",
       "3176  High income  \n",
       "3177  High income  \n",
       "3178  High income  \n",
       "3179  High income  \n",
       "3180  High income  \n",
       "3181  High income  \n",
       "3182  High income  \n",
       "3183  High income  \n",
       "3184  High income  \n",
       "3185  High income  \n",
       "3186  High income  \n",
       "3187  High income  \n",
       "3188  High income  \n",
       "3189  High income  \n",
       "3190  High income  \n",
       "3191  High income  \n",
       "3192  High income  \n",
       "3193  High income  \n",
       "3194  High income  \n",
       "3195  High income  \n",
       "3196  High income  \n",
       "3197  High income  \n",
       "3198  High income  \n",
       "3199  High income  "
      ]
     },
     "execution_count": 12,
     "metadata": {},
     "output_type": "execute_result"
    }
   ],
   "source": [
    "China = dataset[dataset['country'] == 'Macao SAR, China']\n",
    "China"
   ]
  },
  {
   "cell_type": "markdown",
   "metadata": {},
   "source": [
    "##### Plot the overtime change in gdp_percap in UAE"
   ]
  },
  {
   "cell_type": "code",
   "execution_count": 13,
   "metadata": {},
   "outputs": [
    {
     "data": {
      "image/png": "[encoded data removed]",
      "text/plain": [
       "<Figure size 432x288 with 1 Axes>"
      ]
     },
     "metadata": {
      "needs_background": "light"
     },
     "output_type": "display_data"
    }
   ],
   "source": [
    "plt.plot(China['year'], China['gdp_percap'])\n",
    "plt.xlabel('Year')\n",
    "plt.ylabel('GDP')\n",
    "plt.title('GDP Per Capita of United Arab Emirates')\n",
    "plt.show()"
   ]
  },
  {
   "cell_type": "code",
   "execution_count": 14,
   "metadata": {},
   "outputs": [
    {
     "data": {
      "text/plain": [
       "<AxesSubplot:xlabel='year'>"
      ]
     },
     "execution_count": 14,
     "metadata": {},
     "output_type": "execute_result"
    },
    {
     "data": {
      "image/png": "[encoded data removed]",
      "text/plain": [
       "<Figure size 432x288 with 1 Axes>"
      ]
     },
     "metadata": {
      "needs_background": "light"
     },
     "output_type": "display_data"
    }
   ],
   "source": [
    "China.plot.bar(x='year', y='gdp_percap')"
   ]
  },
  {
   "cell_type": "code",
   "execution_count": 15,
   "metadata": {},
   "outputs": [
    {
     "data": {
      "image/png": "[encoded data removed]",
      "text/plain": [
       "<Figure size 720x576 with 1 Axes>"
      ]
     },
     "metadata": {
      "needs_background": "light"
     },
     "output_type": "display_data"
    }
   ],
   "source": [
    "plt.figure(figsize=(10,8))\n",
    "sns.barplot(x='year', y='gdp_percap', data=China)\n",
    "plt.xticks(rotation=60)\n",
    "plt.title('GDP Per Capita of China')\n",
    "plt.show()"
   ]
  },
  {
   "cell_type": "markdown",
   "metadata": {},
   "source": [
    "The country's GDP was highest in 2013. \n",
    "\n",
    "Since the GDP is per person, let's vies the  `gdp_percap`, `gdp` and `population` on the same grapgh."
   ]
  },
  {
   "cell_type": "code",
   "execution_count": 16,
   "metadata": {},
   "outputs": [
    {
     "data": {
      "image/png": "[encoded data removed]",
      "text/plain": [
       "<Figure size 432x288 with 3 Axes>"
      ]
     },
     "metadata": {
      "needs_background": "light"
     },
     "output_type": "display_data"
    }
   ],
   "source": [
    "plt.subplot(311)\n",
    "plt.title('GDP Per Capita')\n",
    "plt.plot(China['year'], China['gdp_percap'] )\n",
    "\n",
    "plt.subplot(312)\n",
    "plt.title('GDP in Billions')\n",
    "plt.plot(China['year'], China['population'] * China['gdp_percap']/10**9 )\n",
    "\n",
    "plt.subplot(313)\n",
    "plt.title('Population in Millions')\n",
    "plt.plot(China['year'], China['population'] /10**6 )\n",
    "\n",
    "plt.tight_layout()"
   ]
  },
  {
   "cell_type": "code",
   "execution_count": 17,
   "metadata": {},
   "outputs": [
    {
     "data": {
      "image/png": "[encoded data removed]",
      "text/plain": [
       "<Figure size 432x288 with 3 Axes>"
      ]
     },
     "metadata": {
      "needs_background": "light"
     },
     "output_type": "display_data"
    }
   ],
   "source": [
    "plt.subplot(311)\n",
    "plt.title('GDP Per Capita')\n",
    "plt.bar(China['year'], China['gdp_percap'], color = 'r' )\n",
    "\n",
    "plt.subplot(312)\n",
    "plt.title('GDP in Billions')\n",
    "plt.bar(China['year'], China['population'] * China['gdp_percap']/10**9, color='g' )\n",
    "\n",
    "plt.subplot(313)\n",
    "plt.title('Population in Millions')\n",
    "plt.bar(China['year'], China['population'] /10**6, color='b' )\n",
    "\n",
    "plt.tight_layout()"
   ]
  },
  {
   "cell_type": "markdown",
   "metadata": {},
   "source": [
    "UAE's GDP dropped a little in 2000. In 2015 it picked but population didn't rise"
   ]
  },
  {
   "cell_type": "markdown",
   "metadata": {},
   "source": [
    "To tell how firster their  population grew relative to the gdp, compare the relative growth in a single plot by showing the population growth in the first year.\n",
    "\n",
    "Set the first year's population to 100 as the basis of comparison, then repeat the same for gdp and gdp_percap"
   ]
  },
  {
   "cell_type": "code",
   "execution_count": 18,
   "metadata": {},
   "outputs": [
    {
     "data": {
      "image/png": "[encoded data removed]",
      "text/plain": [
       "<Figure size 432x288 with 1 Axes>"
      ]
     },
     "metadata": {
      "needs_background": "light"
     },
     "output_type": "display_data"
    }
   ],
   "source": [
    "plt.plot(China['year'], China['population'] * China['population'].iloc[0]*100)\n",
    "UAE_gdp = China['population'] * China['gdp_percap']\n",
    "plt.plot(China['year'], UAE_gdp/ UAE_gdp.iloc[0]*100)\n",
    "plt.plot(China['year'], China['gdp_percap'] /China['gdp_percap'].iloc[0]*100 )\n",
    "plt.title('GDP and Population growth in China(First Year = 100)')\n",
    "plt.legend(['Population', 'GDP', 'GDP Per Capita'])\n",
    "plt.show()\n"
   ]
  },
  {
   "cell_type": "code",
   "execution_count": 19,
   "metadata": {},
   "outputs": [
    {
     "data": {
      "image/png": "[encoded data removed]",
      "text/plain": [
       "<Figure size 432x288 with 1 Axes>"
      ]
     },
     "metadata": {
      "needs_background": "light"
     },
     "output_type": "display_data"
    }
   ],
   "source": [
    "plt.bar(China['year'], China['population'] * China['population'].iloc[0]*100, color='r')\n",
    "China_gdp = China['population'] * China['gdp_percap']\n",
    "plt.bar(China['year'], China_gdp/ China_gdp.iloc[0]*100, color='g')\n",
    "plt.bar(China['year'], China['gdp_percap'] /China['gdp_percap'].iloc[0]*100, color='b')\n",
    "plt.title('GDP and Population growth in China(First Year = 100)')\n",
    "plt.legend(['Population', 'GDP', 'GDP Per Capita'], loc=4)\n",
    "plt.show()\n"
   ]
  },
  {
   "cell_type": "markdown",
   "metadata": {},
   "source": [
    "At no point did China's gap ever catch up with the population growth"
   ]
  },
  {
   "cell_type": "markdown",
   "metadata": {},
   "source": [
    "#### Compare top five countrys' gdps"
   ]
  },
  {
   "cell_type": "code",
   "execution_count": 20,
   "metadata": {},
   "outputs": [
    {
     "data": {
      "image/png": "[encoded data removed]",
      "text/plain": [
       "<Figure size 432x288 with 1 Axes>"
      ]
     },
     "metadata": {
      "needs_background": "light"
     },
     "output_type": "display_data"
    }
   ],
   "source": [
    "qt = dataset[dataset['country'] == 'Qatar']\n",
    "\n",
    "plt.bar(qt['year'], qt['gdp_percap'])\n",
    "plt.bar(China['year'], China['gdp_percap'])\n",
    "plt.legend(['Qatar', 'China'])\n",
    "plt.show()"
   ]
  },
  {
   "cell_type": "markdown",
   "metadata": {},
   "source": [
    "In 2000. the gdp_percapita in Qatar was much higher than  in China but became equal in 2015."
   ]
  },
  {
   "cell_type": "code",
   "execution_count": null,
   "metadata": {},
   "outputs": [],
   "source": []
  }
 ],
 "metadata": {
  "interpreter": {
   "hash": "d693c15a1af53b3139ca18826dea70a800f8d0bad450c9d42b7c75d6ffce5dd7"
  },
  "kernelspec": {
   "display_name": "Python 3.8.8 ('base')",
   "language": "python",
   "name": "python3"
  },
  "language_info": {
   "codemirror_mode": {
    "name": "ipython",
    "version": 3
   },
   "file_extension": ".py",
   "mimetype": "text/x-python",
   "name": "python",
   "nbconvert_exporter": "python",
   "pygments_lexer": "ipython3",
   "version": "3.8.8"
  },
  "orig_nbformat": 4
 },
 "nbformat": 4,
 "nbformat_minor": 2
}
